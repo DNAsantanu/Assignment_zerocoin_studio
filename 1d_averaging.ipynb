{
 "cells": [
  {
   "cell_type": "markdown",
   "metadata": {},
   "source": [
    "Importing necessary library"
   ]
  },
  {
   "cell_type": "code",
   "execution_count": 1,
   "metadata": {},
   "outputs": [
    {
     "name": "stderr",
     "output_type": "stream",
     "text": [
      "/Users/santanudas/Desktop/Assignment/Assignment_zerocoin_studio/Env1/lib/python3.9/site-packages/pytools/persistent_dict.py:63: RecommendedHashNotFoundWarning: Unable to import recommended hash 'siphash24.siphash13', falling back to 'hashlib.sha256'. Run 'python3 -m pip install siphash24' to install the recommended hash.\n",
      "  warn(\"Unable to import recommended hash 'siphash24.siphash13', \"\n"
     ]
    }
   ],
   "source": [
    "import pyopencl as cl\n",
    "import numpy as np"
   ]
  },
  {
   "cell_type": "markdown",
   "metadata": {},
   "source": [
    "Step 1: Platform and Device Selection"
   ]
  },
  {
   "cell_type": "code",
   "execution_count": 3,
   "metadata": {},
   "outputs": [
    {
     "name": "stdout",
     "output_type": "stream",
     "text": [
      "Using platform: Apple\n",
      "Using device: Apple M1\n"
     ]
    }
   ],
   "source": [
    "platform = cl.get_platforms()[0]\n",
    "device = platform.get_devices()[0]\n",
    "print(f\"Using platform: {platform.name}\")\n",
    "print(f\"Using device: {device.name}\")"
   ]
  },
  {
   "cell_type": "markdown",
   "metadata": {},
   "source": [
    "Step 2: Context and Queue Creation\n",
    "* A context manages all resources (memory, devices, programs).\n",
    "\n",
    "* A command queue lets you send commands (like kernel runs and data transfers) to the device."
   ]
  },
  {
   "cell_type": "code",
   "execution_count": 7,
   "metadata": {},
   "outputs": [],
   "source": [
    "ctx = cl.Context([device])\n",
    "queue = cl.CommandQueue(ctx)\n",
    "# print(ctx)"
   ]
  },
  {
   "cell_type": "markdown",
   "metadata": {},
   "source": [
    "Step 3: Define Host Data\n",
    "\n",
    "* This is just a simple NumPy array of 4 bytes (uint8).\n",
    "\n",
    "* These values will be transferred to the GPU for processing."
   ]
  },
  {
   "cell_type": "code",
   "execution_count": 9,
   "metadata": {},
   "outputs": [],
   "source": [
    "host_data = np.array([10, 20, 30, 40], dtype=np.uint8)"
   ]
  },
  {
   "cell_type": "markdown",
   "metadata": {},
   "source": [
    "Step 4: Create Device Buffer\n",
    "\n",
    "* You allocate a buffer in GPU memory to hold the data.\n",
    "\n",
    "* COPY_HOST_PTR copies the NumPy array to the GPU.\n",
    "\n",
    "* READ_WRITE allows the GPU to both read and write to this buffer."
   ]
  },
  {
   "cell_type": "code",
   "execution_count": 10,
   "metadata": {},
   "outputs": [],
   "source": [
    "mf = cl.mem_flags\n",
    "device_buffer = cl.Buffer(ctx, mf.READ_WRITE | mf.COPY_HOST_PTR, hostbuf=host_data)"
   ]
  },
  {
   "cell_type": "markdown",
   "metadata": {},
   "source": [
    "Step 5: Define OpenCL Kernel (GPU Code)"
   ]
  },
  {
   "cell_type": "code",
   "execution_count": 12,
   "metadata": {},
   "outputs": [],
   "source": [
    "kernel_code = \"\"\"\n",
    "__kernel void average_1d(__global const uchar* input, __global uchar* output, const int N) {\n",
    "    int gid = get_global_id(0);\n",
    "    \n",
    "    if (gid == 0 || gid == N-1) {\n",
    "        output[gid] = input[gid];  // edge case: keep as-is\n",
    "    } else {\n",
    "        output[gid] = (input[gid-1] + input[gid] + input[gid+1]) / 3;\n",
    "    }\n",
    "}\n",
    "\"\"\""
   ]
  },
  {
   "cell_type": "markdown",
   "metadata": {},
   "source": [
    "This is OpenCL C code, compiled at runtime.\n",
    "\n",
    "1. __kernel: marks a GPU function.\n",
    "\n",
    "2. __global uchar* data: pointer to the data buffer in GPU memory.\n",
    "\n",
    "3. get_global_id(0): gets the unique thread ID in 1D.\n",
    "\n",
    "4. If you're applying a mean filter on a 1D array (like signal or image row), here’s a basic version with a fixed-size window."
   ]
  },
  {
   "cell_type": "markdown",
   "metadata": {},
   "source": [
    "Step 6: Build Kernel Program\n",
    "* compile the OpenCL code at runtime and load it into the context.\n",
    "\n",
    "* The .build() step turns it into a usable GPU function."
   ]
  },
  {
   "cell_type": "code",
   "execution_count": 13,
   "metadata": {},
   "outputs": [],
   "source": [
    "program = cl.Program(ctx, kernel_code).build()"
   ]
  },
  {
   "cell_type": "markdown",
   "metadata": {},
   "source": [
    "Step 7: Execute the Kernel"
   ]
  },
  {
   "cell_type": "code",
   "execution_count": 14,
   "metadata": {},
   "outputs": [
    {
     "ename": "AttributeError",
     "evalue": "'increment' was not found as a program info attribute or as a kernel name",
     "output_type": "error",
     "traceback": [
      "\u001b[0;31m---------------------------------------------------------------------------\u001b[0m",
      "\u001b[0;31mLogicError\u001b[0m                                Traceback (most recent call last)",
      "File \u001b[0;32m~/Desktop/Assignment/Assignment_zerocoin_studio/Env1/lib/python3.9/site-packages/pyopencl/__init__.py:443\u001b[0m, in \u001b[0;36mProgram.__getattr__\u001b[0;34m(self, attr)\u001b[0m\n\u001b[1;32m    442\u001b[0m \u001b[38;5;28;01mtry\u001b[39;00m:\n\u001b[0;32m--> 443\u001b[0m     knl \u001b[38;5;241m=\u001b[39m \u001b[43mKernel\u001b[49m\u001b[43m(\u001b[49m\u001b[38;5;28;43mself\u001b[39;49m\u001b[43m,\u001b[49m\u001b[43m \u001b[49m\u001b[43mattr\u001b[49m\u001b[43m)\u001b[49m\n\u001b[1;32m    444\u001b[0m     \u001b[38;5;66;03m# Nvidia does not raise errors even for invalid names,\u001b[39;00m\n\u001b[1;32m    445\u001b[0m     \u001b[38;5;66;03m# but this will give an error if the kernel is invalid.\u001b[39;00m\n",
      "\u001b[0;31mLogicError\u001b[0m: clCreateKernel failed: INVALID_KERNEL_NAME",
      "\nThe above exception was the direct cause of the following exception:\n",
      "\u001b[0;31mAttributeError\u001b[0m                            Traceback (most recent call last)",
      "Cell \u001b[0;32mIn[14], line 1\u001b[0m\n\u001b[0;32m----> 1\u001b[0m \u001b[43mprogram\u001b[49m\u001b[38;5;241;43m.\u001b[39;49m\u001b[43mincrement\u001b[49m(queue, host_data\u001b[38;5;241m.\u001b[39mshape, \u001b[38;5;28;01mNone\u001b[39;00m, device_buffer)\n",
      "File \u001b[0;32m~/Desktop/Assignment/Assignment_zerocoin_studio/Env1/lib/python3.9/site-packages/pyopencl/__init__.py:460\u001b[0m, in \u001b[0;36mProgram.__getattr__\u001b[0;34m(self, attr)\u001b[0m\n\u001b[1;32m    458\u001b[0m     \u001b[38;5;28;01mreturn\u001b[39;00m knl\n\u001b[1;32m    459\u001b[0m \u001b[38;5;28;01mexcept\u001b[39;00m LogicError \u001b[38;5;28;01mas\u001b[39;00m err:\n\u001b[0;32m--> 460\u001b[0m     \u001b[38;5;28;01mraise\u001b[39;00m \u001b[38;5;167;01mAttributeError\u001b[39;00m(\u001b[38;5;124m\"\u001b[39m\u001b[38;5;124m'\u001b[39m\u001b[38;5;132;01m%s\u001b[39;00m\u001b[38;5;124m'\u001b[39m\u001b[38;5;124m was not found as a program \u001b[39m\u001b[38;5;124m\"\u001b[39m\n\u001b[1;32m    461\u001b[0m             \u001b[38;5;124m\"\u001b[39m\u001b[38;5;124minfo attribute or as a kernel name\u001b[39m\u001b[38;5;124m\"\u001b[39m \u001b[38;5;241m%\u001b[39m attr) \u001b[38;5;28;01mfrom\u001b[39;00m\u001b[38;5;250m \u001b[39m\u001b[38;5;21;01merr\u001b[39;00m\n",
      "\u001b[0;31mAttributeError\u001b[0m: 'increment' was not found as a program info attribute or as a kernel name"
     ]
    }
   ],
   "source": [
    "program.increment(queue, host_data.shape, None, device_buffer)"
   ]
  },
  {
   "cell_type": "markdown",
   "metadata": {},
   "source": [
    "* This tells the GPU: run the increment kernel.\n",
    "\n",
    "* host_data.shape is used to specify how many parallel GPU threads to launch (4 here).\n",
    "\n",
    "* The device_buffer is passed to the kernel as the input data."
   ]
  },
  {
   "cell_type": "code",
   "execution_count": null,
   "metadata": {},
   "outputs": [],
   "source": []
  }
 ],
 "metadata": {
  "kernelspec": {
   "display_name": "Env1",
   "language": "python",
   "name": "python3"
  },
  "language_info": {
   "codemirror_mode": {
    "name": "ipython",
    "version": 3
   },
   "file_extension": ".py",
   "mimetype": "text/x-python",
   "name": "python",
   "nbconvert_exporter": "python",
   "pygments_lexer": "ipython3",
   "version": "3.9.6"
  }
 },
 "nbformat": 4,
 "nbformat_minor": 2
}
